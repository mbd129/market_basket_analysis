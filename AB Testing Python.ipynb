{
 "cells": [
  {
   "cell_type": "code",
   "execution_count": 1,
   "id": "d2fda1f1",
   "metadata": {},
   "outputs": [],
   "source": [
    "# A/B Testing is a process of conducting an experiment and testing the hypothesis between\n",
    "# control and treatment groups.\n",
    "# Steps involved are - Designing Experiment, Collecting Data including Sample Size,\n",
    "# EDA, Testing Hypothesis, Infer the test results\n",
    "\n",
    "# Example Designed a new type of product page and are trying to find out whether the new page\n",
    "# or old page is effective in bringing leads to business. \n",
    "# Formulate a Hypothesis and wil conduct a 2 tail Hypothesis test between the new page and\n",
    "# old page lead generation rate\n",
    "# Po represents old page and Pn represents new page\n",
    "# Null - Po=Pn\n",
    "# Alt - Po!=Pn\n",
    "# Confidence Level - 95% (0.05 Alpha)\n",
    "\n",
    "# Choosing Variables - 2 Groups are needed\n",
    "# Control group - They will be shown only Old page\n",
    "# Treatment group(Experimental Group) - They will be shown only New Page\n",
    "# Dependent variable - Lead_Generated - Yes/No\n",
    "\n",
    "# Choosing the Right Sample Size - Using a method Power Analysis\n",
    "# Power of Test (1-β) - probability of findning a statistical difference between the groups\n",
    "# when the difference is actually present. Usually it is set to 0.80.\n",
    "# ⍺ =0.05\n",
    "# Effect Size - How big difference is expected between the groups lead generation (percentage)\n"
   ]
  },
  {
   "cell_type": "code",
   "execution_count": 2,
   "id": "44e4d675",
   "metadata": {},
   "outputs": [],
   "source": [
    "import pandas as pd\n",
    "import numpy as np\n",
    "import matplotlib.pyplot as plt\n",
    "%matplotlib inline"
   ]
  },
  {
   "cell_type": "code",
   "execution_count": 3,
   "id": "66d81120",
   "metadata": {},
   "outputs": [
    {
     "name": "stdout",
     "output_type": "stream",
     "text": [
      "/Users/rajeshprabhakarkaila/Desktop/Datasets\n"
     ]
    }
   ],
   "source": [
    "import io\n",
    "%cd '/Users/rajeshprabhakarkaila/Desktop/Datasets'"
   ]
  },
  {
   "cell_type": "code",
   "execution_count": 4,
   "id": "da2a8598",
   "metadata": {},
   "outputs": [],
   "source": [
    "abdf=pd.read_csv(\"ab_data.csv\")"
   ]
  },
  {
   "cell_type": "code",
   "execution_count": 5,
   "id": "f4011e12",
   "metadata": {},
   "outputs": [
    {
     "name": "stdout",
     "output_type": "stream",
     "text": [
      "<class 'pandas.core.frame.DataFrame'>\n",
      "RangeIndex: 294478 entries, 0 to 294477\n",
      "Data columns (total 5 columns):\n",
      " #   Column        Non-Null Count   Dtype \n",
      "---  ------        --------------   ----- \n",
      " 0   user_id       294478 non-null  int64 \n",
      " 1   timestamp     294478 non-null  object\n",
      " 2   group         294478 non-null  object\n",
      " 3   landing_page  294478 non-null  object\n",
      " 4   converted     294478 non-null  int64 \n",
      "dtypes: int64(2), object(3)\n",
      "memory usage: 11.2+ MB\n"
     ]
    }
   ],
   "source": [
    "abdf.info()"
   ]
  },
  {
   "cell_type": "code",
   "execution_count": 12,
   "id": "7575b227",
   "metadata": {},
   "outputs": [],
   "source": [
    "# Calculating Required Sample Size\n",
    "from statsmodels.stats.api import NormalIndPower,proportion_effectsize\n",
    "effect_size=proportion_effectsize(0.13,0.15) # Estimated Effect Size (13-15%)\n",
    "required_sample=NormalIndPower().solve_power(effect_size=effect_size,power=0.80,alpha=0.05,\n",
    "                                             ratio=1)"
   ]
  },
  {
   "cell_type": "code",
   "execution_count": 16,
   "id": "360a9043",
   "metadata": {},
   "outputs": [],
   "source": [
    "required_sample=np.ceil(required_sample)"
   ]
  },
  {
   "cell_type": "code",
   "execution_count": 17,
   "id": "52a6c41c",
   "metadata": {},
   "outputs": [],
   "source": [
    "sess_counts=abdf.user_id.value_counts(ascending=False)"
   ]
  },
  {
   "cell_type": "code",
   "execution_count": 18,
   "id": "c1b495ce",
   "metadata": {},
   "outputs": [],
   "source": [
    "duplicate=sess_counts[sess_counts>1].count()"
   ]
  },
  {
   "cell_type": "code",
   "execution_count": 19,
   "id": "8fd15934",
   "metadata": {},
   "outputs": [
    {
     "data": {
      "text/plain": [
       "3894"
      ]
     },
     "execution_count": 19,
     "metadata": {},
     "output_type": "execute_result"
    }
   ],
   "source": [
    "duplicate"
   ]
  },
  {
   "cell_type": "code",
   "execution_count": 20,
   "id": "968bd88a",
   "metadata": {},
   "outputs": [],
   "source": [
    "duplicate_users=sess_counts[sess_counts>1].index"
   ]
  },
  {
   "cell_type": "code",
   "execution_count": 21,
   "id": "8536d92c",
   "metadata": {},
   "outputs": [],
   "source": [
    "abdf=abdf[~abdf.user_id.isin(duplicate_users)]"
   ]
  },
  {
   "cell_type": "code",
   "execution_count": 22,
   "id": "5f1f3684",
   "metadata": {},
   "outputs": [
    {
     "name": "stdout",
     "output_type": "stream",
     "text": [
      "<class 'pandas.core.frame.DataFrame'>\n",
      "Index: 286690 entries, 0 to 294477\n",
      "Data columns (total 5 columns):\n",
      " #   Column        Non-Null Count   Dtype \n",
      "---  ------        --------------   ----- \n",
      " 0   user_id       286690 non-null  int64 \n",
      " 1   timestamp     286690 non-null  object\n",
      " 2   group         286690 non-null  object\n",
      " 3   landing_page  286690 non-null  object\n",
      " 4   converted     286690 non-null  int64 \n",
      "dtypes: int64(2), object(3)\n",
      "memory usage: 13.1+ MB\n"
     ]
    }
   ],
   "source": [
    "abdf.info()"
   ]
  },
  {
   "cell_type": "code",
   "execution_count": 24,
   "id": "a0f5f2d4",
   "metadata": {},
   "outputs": [],
   "source": [
    "control_sample=abdf[abdf.group==\"control\"].sample(n=required_sample.astype(int),\n",
    "                                                  random_state=42)"
   ]
  },
  {
   "cell_type": "code",
   "execution_count": 25,
   "id": "0c79e6c4",
   "metadata": {},
   "outputs": [],
   "source": [
    "experimental_sample=abdf[abdf.group==\"treatment\"].sample(n=required_sample.astype(int),\n",
    "                                                  random_state=42)"
   ]
  },
  {
   "cell_type": "code",
   "execution_count": 32,
   "id": "4b2772c7",
   "metadata": {},
   "outputs": [],
   "source": [
    "ab_test=pd.concat([control_sample,experimental_sample],axis=0)"
   ]
  },
  {
   "cell_type": "code",
   "execution_count": 33,
   "id": "122a772e",
   "metadata": {},
   "outputs": [],
   "source": [
    "ab_test.reset_index(drop=True,inplace=True)"
   ]
  },
  {
   "cell_type": "code",
   "execution_count": 34,
   "id": "f6c82b1b",
   "metadata": {},
   "outputs": [
    {
     "data": {
      "text/plain": [
       "group\n",
       "control      4720\n",
       "treatment    4720\n",
       "Name: count, dtype: int64"
      ]
     },
     "execution_count": 34,
     "metadata": {},
     "output_type": "execute_result"
    }
   ],
   "source": [
    "ab_test.group.value_counts()"
   ]
  },
  {
   "cell_type": "code",
   "execution_count": 36,
   "id": "22917193",
   "metadata": {},
   "outputs": [],
   "source": [
    "control_results=ab_test[ab_test.group==\"control\"]['converted']"
   ]
  },
  {
   "cell_type": "code",
   "execution_count": 38,
   "id": "df24c877",
   "metadata": {},
   "outputs": [],
   "source": [
    "experimental_results=ab_test[ab_test.group==\"treatment\"]['converted']"
   ]
  },
  {
   "cell_type": "code",
   "execution_count": 39,
   "id": "fde57265",
   "metadata": {},
   "outputs": [],
   "source": [
    "from statsmodels.stats.proportion import proportions_ztest"
   ]
  },
  {
   "cell_type": "code",
   "execution_count": 40,
   "id": "531ced6f",
   "metadata": {},
   "outputs": [],
   "source": [
    "success=[control_results.sum(),experimental_results.sum()]"
   ]
  },
  {
   "cell_type": "code",
   "execution_count": 41,
   "id": "f53ab785",
   "metadata": {},
   "outputs": [],
   "source": [
    "nobs=[control_results.count(),experimental_results.count()]"
   ]
  },
  {
   "cell_type": "code",
   "execution_count": 48,
   "id": "76150c99",
   "metadata": {},
   "outputs": [],
   "source": [
    "z_stat,pval=proportions_ztest(success,nobs,value=0)"
   ]
  },
  {
   "cell_type": "code",
   "execution_count": 49,
   "id": "ddd5bab1",
   "metadata": {},
   "outputs": [
    {
     "data": {
      "text/plain": [
       "-2.0109005932696107"
      ]
     },
     "execution_count": 49,
     "metadata": {},
     "output_type": "execute_result"
    }
   ],
   "source": [
    "z_stat"
   ]
  },
  {
   "cell_type": "code",
   "execution_count": 50,
   "id": "5d608ba6",
   "metadata": {},
   "outputs": [
    {
     "data": {
      "text/plain": [
       "0.044335957690484505"
      ]
     },
     "execution_count": 50,
     "metadata": {},
     "output_type": "execute_result"
    }
   ],
   "source": [
    "pval # Since p-value is less than 0.05, Reject Null"
   ]
  },
  {
   "cell_type": "code",
   "execution_count": null,
   "id": "fbeb50a1",
   "metadata": {},
   "outputs": [],
   "source": []
  }
 ],
 "metadata": {
  "kernelspec": {
   "display_name": "Python 3 (ipykernel)",
   "language": "python",
   "name": "python3"
  },
  "language_info": {
   "codemirror_mode": {
    "name": "ipython",
    "version": 3
   },
   "file_extension": ".py",
   "mimetype": "text/x-python",
   "name": "python",
   "nbconvert_exporter": "python",
   "pygments_lexer": "ipython3",
   "version": "3.10.8"
  }
 },
 "nbformat": 4,
 "nbformat_minor": 5
}
